{
  "nbformat": 4,
  "nbformat_minor": 0,
  "metadata": {
    "colab": {
      "name": "language_model.ipynb",
      "provenance": [],
      "collapsed_sections": []
    },
    "kernelspec": {
      "name": "python3",
      "display_name": "Python 3"
    },
    "accelerator": "GPU"
  },
  "cells": [
    {
      "cell_type": "code",
      "source": [
        "!pip install fastai==1.0.61 spacy==2.3.7"
      ],
      "metadata": {
        "id": "CXG2_T4r7drV",
        "colab": {
          "base_uri": "https://localhost:8080/"
        },
        "outputId": "820cae07-a720-461d-eaf2-c7132a3db7df"
      },
      "execution_count": null,
      "outputs": [
        {
          "output_type": "stream",
          "name": "stdout",
          "text": [
            "Looking in indexes: https://pypi.org/simple, https://us-python.pkg.dev/colab-wheels/public/simple/\n",
            "Collecting fastai==1.0.61\n",
            "  Downloading fastai-1.0.61-py3-none-any.whl (239 kB)\n",
            "\u001b[K     |████████████████████████████████| 239 kB 8.6 MB/s \n",
            "\u001b[?25hCollecting spacy==2.3.7\n",
            "  Downloading spacy-2.3.7-cp37-cp37m-manylinux_2_17_x86_64.manylinux2014_x86_64.whl (10.4 MB)\n",
            "\u001b[K     |████████████████████████████████| 10.4 MB 55.2 MB/s \n",
            "\u001b[?25hCollecting bottleneck\n",
            "  Downloading Bottleneck-1.3.5-cp37-cp37m-manylinux_2_5_x86_64.manylinux1_x86_64.manylinux_2_17_x86_64.manylinux2014_x86_64.whl (355 kB)\n",
            "\u001b[K     |████████████████████████████████| 355 kB 54.1 MB/s \n",
            "\u001b[?25hRequirement already satisfied: numpy>=1.15 in /usr/local/lib/python3.7/dist-packages (from fastai==1.0.61) (1.21.6)\n",
            "Requirement already satisfied: pandas in /usr/local/lib/python3.7/dist-packages (from fastai==1.0.61) (1.3.5)\n",
            "Requirement already satisfied: beautifulsoup4 in /usr/local/lib/python3.7/dist-packages (from fastai==1.0.61) (4.6.3)\n",
            "Requirement already satisfied: Pillow in /usr/local/lib/python3.7/dist-packages (from fastai==1.0.61) (7.1.2)\n",
            "Requirement already satisfied: pyyaml in /usr/local/lib/python3.7/dist-packages (from fastai==1.0.61) (3.13)\n",
            "Requirement already satisfied: scipy in /usr/local/lib/python3.7/dist-packages (from fastai==1.0.61) (1.7.3)\n",
            "Collecting nvidia-ml-py3\n",
            "  Downloading nvidia-ml-py3-7.352.0.tar.gz (19 kB)\n",
            "Requirement already satisfied: torchvision in /usr/local/lib/python3.7/dist-packages (from fastai==1.0.61) (0.13.0+cu113)\n",
            "Requirement already satisfied: requests in /usr/local/lib/python3.7/dist-packages (from fastai==1.0.61) (2.23.0)\n",
            "Requirement already satisfied: matplotlib in /usr/local/lib/python3.7/dist-packages (from fastai==1.0.61) (3.2.2)\n",
            "Requirement already satisfied: torch>=1.0.0 in /usr/local/lib/python3.7/dist-packages (from fastai==1.0.61) (1.12.0+cu113)\n",
            "Requirement already satisfied: fastprogress>=0.2.1 in /usr/local/lib/python3.7/dist-packages (from fastai==1.0.61) (1.0.3)\n",
            "Requirement already satisfied: packaging in /usr/local/lib/python3.7/dist-packages (from fastai==1.0.61) (21.3)\n",
            "Requirement already satisfied: numexpr in /usr/local/lib/python3.7/dist-packages (from fastai==1.0.61) (2.8.3)\n",
            "Requirement already satisfied: murmurhash<1.1.0,>=0.28.0 in /usr/local/lib/python3.7/dist-packages (from spacy==2.3.7) (1.0.7)\n",
            "Requirement already satisfied: tqdm<5.0.0,>=4.38.0 in /usr/local/lib/python3.7/dist-packages (from spacy==2.3.7) (4.64.0)\n",
            "Collecting plac<1.2.0,>=0.9.6\n",
            "  Downloading plac-1.1.3-py2.py3-none-any.whl (20 kB)\n",
            "Collecting catalogue<1.1.0,>=0.0.7\n",
            "  Downloading catalogue-1.0.0-py2.py3-none-any.whl (7.7 kB)\n",
            "Collecting thinc<7.5.0,>=7.4.1\n",
            "  Downloading thinc-7.4.5-cp37-cp37m-manylinux2014_x86_64.whl (1.0 MB)\n",
            "\u001b[K     |████████████████████████████████| 1.0 MB 53.4 MB/s \n",
            "\u001b[?25hRequirement already satisfied: setuptools in /usr/local/lib/python3.7/dist-packages (from spacy==2.3.7) (57.4.0)\n",
            "Collecting srsly<1.1.0,>=1.0.2\n",
            "  Downloading srsly-1.0.5-cp37-cp37m-manylinux2014_x86_64.whl (184 kB)\n",
            "\u001b[K     |████████████████████████████████| 184 kB 48.2 MB/s \n",
            "\u001b[?25hRequirement already satisfied: preshed<3.1.0,>=3.0.2 in /usr/local/lib/python3.7/dist-packages (from spacy==2.3.7) (3.0.6)\n",
            "Requirement already satisfied: wasabi<1.1.0,>=0.4.0 in /usr/local/lib/python3.7/dist-packages (from spacy==2.3.7) (0.10.1)\n",
            "Requirement already satisfied: blis<0.8.0,>=0.4.0 in /usr/local/lib/python3.7/dist-packages (from spacy==2.3.7) (0.7.8)\n",
            "Requirement already satisfied: cymem<2.1.0,>=2.0.2 in /usr/local/lib/python3.7/dist-packages (from spacy==2.3.7) (2.0.6)\n",
            "Requirement already satisfied: importlib-metadata>=0.20 in /usr/local/lib/python3.7/dist-packages (from catalogue<1.1.0,>=0.0.7->spacy==2.3.7) (4.12.0)\n",
            "Requirement already satisfied: zipp>=0.5 in /usr/local/lib/python3.7/dist-packages (from importlib-metadata>=0.20->catalogue<1.1.0,>=0.0.7->spacy==2.3.7) (3.8.1)\n",
            "Requirement already satisfied: typing-extensions>=3.6.4 in /usr/local/lib/python3.7/dist-packages (from importlib-metadata>=0.20->catalogue<1.1.0,>=0.0.7->spacy==2.3.7) (4.1.1)\n",
            "Requirement already satisfied: chardet<4,>=3.0.2 in /usr/local/lib/python3.7/dist-packages (from requests->fastai==1.0.61) (3.0.4)\n",
            "Requirement already satisfied: urllib3!=1.25.0,!=1.25.1,<1.26,>=1.21.1 in /usr/local/lib/python3.7/dist-packages (from requests->fastai==1.0.61) (1.24.3)\n",
            "Requirement already satisfied: certifi>=2017.4.17 in /usr/local/lib/python3.7/dist-packages (from requests->fastai==1.0.61) (2022.6.15)\n",
            "Requirement already satisfied: idna<3,>=2.5 in /usr/local/lib/python3.7/dist-packages (from requests->fastai==1.0.61) (2.10)\n",
            "Requirement already satisfied: kiwisolver>=1.0.1 in /usr/local/lib/python3.7/dist-packages (from matplotlib->fastai==1.0.61) (1.4.4)\n",
            "Requirement already satisfied: pyparsing!=2.0.4,!=2.1.2,!=2.1.6,>=2.0.1 in /usr/local/lib/python3.7/dist-packages (from matplotlib->fastai==1.0.61) (3.0.9)\n",
            "Requirement already satisfied: cycler>=0.10 in /usr/local/lib/python3.7/dist-packages (from matplotlib->fastai==1.0.61) (0.11.0)\n",
            "Requirement already satisfied: python-dateutil>=2.1 in /usr/local/lib/python3.7/dist-packages (from matplotlib->fastai==1.0.61) (2.8.2)\n",
            "Requirement already satisfied: six>=1.5 in /usr/local/lib/python3.7/dist-packages (from python-dateutil>=2.1->matplotlib->fastai==1.0.61) (1.15.0)\n",
            "Requirement already satisfied: pytz>=2017.3 in /usr/local/lib/python3.7/dist-packages (from pandas->fastai==1.0.61) (2022.1)\n",
            "Building wheels for collected packages: nvidia-ml-py3\n",
            "  Building wheel for nvidia-ml-py3 (setup.py) ... \u001b[?25l\u001b[?25hdone\n",
            "  Created wheel for nvidia-ml-py3: filename=nvidia_ml_py3-7.352.0-py3-none-any.whl size=19190 sha256=7ee14768bf78d09f3c88ef4d813f6302f8894e4bf498407ed3cb3d7c4a612b67\n",
            "  Stored in directory: /root/.cache/pip/wheels/df/99/da/c34f202dc8fd1dffd35e0ecf1a7d7f8374ca05fbcbaf974b83\n",
            "Successfully built nvidia-ml-py3\n",
            "Installing collected packages: srsly, plac, catalogue, thinc, spacy, nvidia-ml-py3, bottleneck, fastai\n",
            "  Attempting uninstall: srsly\n",
            "    Found existing installation: srsly 2.4.4\n",
            "    Uninstalling srsly-2.4.4:\n",
            "      Successfully uninstalled srsly-2.4.4\n",
            "  Attempting uninstall: catalogue\n",
            "    Found existing installation: catalogue 2.0.8\n",
            "    Uninstalling catalogue-2.0.8:\n",
            "      Successfully uninstalled catalogue-2.0.8\n",
            "  Attempting uninstall: thinc\n",
            "    Found existing installation: thinc 8.1.0\n",
            "    Uninstalling thinc-8.1.0:\n",
            "      Successfully uninstalled thinc-8.1.0\n",
            "  Attempting uninstall: spacy\n",
            "    Found existing installation: spacy 3.4.1\n",
            "    Uninstalling spacy-3.4.1:\n",
            "      Successfully uninstalled spacy-3.4.1\n",
            "  Attempting uninstall: fastai\n",
            "    Found existing installation: fastai 2.7.7\n",
            "    Uninstalling fastai-2.7.7:\n",
            "      Successfully uninstalled fastai-2.7.7\n",
            "\u001b[31mERROR: pip's dependency resolver does not currently take into account all the packages that are installed. This behaviour is the source of the following dependency conflicts.\n",
            "en-core-web-sm 3.4.0 requires spacy<3.5.0,>=3.4.0, but you have spacy 2.3.7 which is incompatible.\u001b[0m\n",
            "Successfully installed bottleneck-1.3.5 catalogue-1.0.0 fastai-1.0.61 nvidia-ml-py3-7.352.0 plac-1.1.3 spacy-2.3.7 srsly-1.0.5 thinc-7.4.5\n"
          ]
        }
      ]
    },
    {
      "cell_type": "code",
      "metadata": {
        "id": "yTA7r-UtLIkk",
        "colab": {
          "base_uri": "https://localhost:8080/"
        },
        "outputId": "8f7d17a0-6c5a-4874-c7de-a71eb32fb00f"
      },
      "source": [
        "from google.colab import drive\n",
        "drive.mount('/content/drive')"
      ],
      "execution_count": null,
      "outputs": [
        {
          "output_type": "stream",
          "name": "stdout",
          "text": [
            "Mounted at /content/drive\n"
          ]
        }
      ]
    },
    {
      "cell_type": "code",
      "metadata": {
        "id": "hgjoDE-OJRgI"
      },
      "source": [
        "from fastai.text import *\n",
        "\n",
        "path = \"/content/drive/My Drive/DATA-475/imdb\""
      ],
      "execution_count": null,
      "outputs": []
    },
    {
      "cell_type": "code",
      "metadata": {
        "id": "Ng9a7n9kste4",
        "colab": {
          "base_uri": "https://localhost:8080/",
          "height": 72
        },
        "outputId": "56351af3-535b-4c6f-81da-9d9bb9c319c4"
      },
      "source": [
        "# create TextLMDataBunch using the csv in path\n",
        "#     remember to specify the text column\n",
        "data_lm = TextLMDataBunch.from_csv(\n",
        "    path,\n",
        "    \"train.csv\",\n",
        "    text_cols=\"review\"\n",
        ")"
      ],
      "execution_count": null,
      "outputs": [
        {
          "output_type": "display_data",
          "data": {
            "text/plain": [
              "<IPython.core.display.HTML object>"
            ],
            "text/html": [
              "\n",
              "<style>\n",
              "    /* Turns off some styling */\n",
              "    progress {\n",
              "        /* gets rid of default border in Firefox and Opera. */\n",
              "        border: none;\n",
              "        /* Needs to be in here for Safari polyfill so background images work as expected. */\n",
              "        background-size: auto;\n",
              "    }\n",
              "    progress:not([value]), progress:not([value])::-webkit-progress-bar {\n",
              "        background: repeating-linear-gradient(45deg, #7e7e7e, #7e7e7e 10px, #5c5c5c 10px, #5c5c5c 20px);\n",
              "    }\n",
              "    .progress-bar-interrupted, .progress-bar-interrupted::-webkit-progress-bar {\n",
              "        background: #F44336;\n",
              "    }\n",
              "</style>\n"
            ]
          },
          "metadata": {}
        },
        {
          "output_type": "display_data",
          "data": {
            "text/plain": [
              "<IPython.core.display.HTML object>"
            ],
            "text/html": [
              ""
            ]
          },
          "metadata": {}
        },
        {
          "output_type": "stream",
          "name": "stderr",
          "text": [
            "/usr/local/lib/python3.7/dist-packages/fastai/core.py:302: VisibleDeprecationWarning: Creating an ndarray from ragged nested sequences (which is a list-or-tuple of lists-or-tuples-or ndarrays with different lengths or shapes) is deprecated. If you meant to do this, you must specify 'dtype=object' when creating the ndarray.\n",
            "  return np.array(a, dtype=dtype, **kwargs)\n"
          ]
        },
        {
          "output_type": "display_data",
          "data": {
            "text/plain": [
              "<IPython.core.display.HTML object>"
            ],
            "text/html": [
              "\n",
              "<style>\n",
              "    /* Turns off some styling */\n",
              "    progress {\n",
              "        /* gets rid of default border in Firefox and Opera. */\n",
              "        border: none;\n",
              "        /* Needs to be in here for Safari polyfill so background images work as expected. */\n",
              "        background-size: auto;\n",
              "    }\n",
              "    progress:not([value]), progress:not([value])::-webkit-progress-bar {\n",
              "        background: repeating-linear-gradient(45deg, #7e7e7e, #7e7e7e 10px, #5c5c5c 10px, #5c5c5c 20px);\n",
              "    }\n",
              "    .progress-bar-interrupted, .progress-bar-interrupted::-webkit-progress-bar {\n",
              "        background: #F44336;\n",
              "    }\n",
              "</style>\n"
            ]
          },
          "metadata": {}
        },
        {
          "output_type": "display_data",
          "data": {
            "text/plain": [
              "<IPython.core.display.HTML object>"
            ],
            "text/html": [
              ""
            ]
          },
          "metadata": {}
        }
      ]
    },
    {
      "cell_type": "code",
      "metadata": {
        "id": "NCVGVEOWsS_G",
        "colab": {
          "base_uri": "https://localhost:8080/",
          "height": 124
        },
        "outputId": "f4a6ae48-6af7-4ce8-a800-bed4adc85135"
      },
      "source": [
        "# create TextClasDataBunch using the csv in path\n",
        "#     remember to specify the text/label column\n",
        "#     specify test dataset, vocab, and bs\n",
        "data_clas = TextClasDataBunch.from_csv(\n",
        "    path,\n",
        "    \"train.csv\",\n",
        "    test=\"test.csv\",\n",
        "    text_cols=\"review\",\n",
        "    label_cols=\"sentiment\",\n",
        "    vocab=data_lm.train_ds.vocab,\n",
        "    bs=32,\n",
        ")"
      ],
      "execution_count": null,
      "outputs": [
        {
          "output_type": "display_data",
          "data": {
            "text/plain": [
              "<IPython.core.display.HTML object>"
            ],
            "text/html": [
              "\n",
              "<style>\n",
              "    /* Turns off some styling */\n",
              "    progress {\n",
              "        /* gets rid of default border in Firefox and Opera. */\n",
              "        border: none;\n",
              "        /* Needs to be in here for Safari polyfill so background images work as expected. */\n",
              "        background-size: auto;\n",
              "    }\n",
              "    progress:not([value]), progress:not([value])::-webkit-progress-bar {\n",
              "        background: repeating-linear-gradient(45deg, #7e7e7e, #7e7e7e 10px, #5c5c5c 10px, #5c5c5c 20px);\n",
              "    }\n",
              "    .progress-bar-interrupted, .progress-bar-interrupted::-webkit-progress-bar {\n",
              "        background: #F44336;\n",
              "    }\n",
              "</style>\n"
            ]
          },
          "metadata": {}
        },
        {
          "output_type": "display_data",
          "data": {
            "text/plain": [
              "<IPython.core.display.HTML object>"
            ],
            "text/html": [
              ""
            ]
          },
          "metadata": {}
        },
        {
          "output_type": "stream",
          "name": "stderr",
          "text": [
            "/usr/local/lib/python3.7/dist-packages/fastai/core.py:302: VisibleDeprecationWarning: Creating an ndarray from ragged nested sequences (which is a list-or-tuple of lists-or-tuples-or ndarrays with different lengths or shapes) is deprecated. If you meant to do this, you must specify 'dtype=object' when creating the ndarray.\n",
            "  return np.array(a, dtype=dtype, **kwargs)\n"
          ]
        },
        {
          "output_type": "display_data",
          "data": {
            "text/plain": [
              "<IPython.core.display.HTML object>"
            ],
            "text/html": [
              "\n",
              "<style>\n",
              "    /* Turns off some styling */\n",
              "    progress {\n",
              "        /* gets rid of default border in Firefox and Opera. */\n",
              "        border: none;\n",
              "        /* Needs to be in here for Safari polyfill so background images work as expected. */\n",
              "        background-size: auto;\n",
              "    }\n",
              "    progress:not([value]), progress:not([value])::-webkit-progress-bar {\n",
              "        background: repeating-linear-gradient(45deg, #7e7e7e, #7e7e7e 10px, #5c5c5c 10px, #5c5c5c 20px);\n",
              "    }\n",
              "    .progress-bar-interrupted, .progress-bar-interrupted::-webkit-progress-bar {\n",
              "        background: #F44336;\n",
              "    }\n",
              "</style>\n"
            ]
          },
          "metadata": {}
        },
        {
          "output_type": "display_data",
          "data": {
            "text/plain": [
              "<IPython.core.display.HTML object>"
            ],
            "text/html": [
              ""
            ]
          },
          "metadata": {}
        },
        {
          "output_type": "display_data",
          "data": {
            "text/plain": [
              "<IPython.core.display.HTML object>"
            ],
            "text/html": [
              "\n",
              "<style>\n",
              "    /* Turns off some styling */\n",
              "    progress {\n",
              "        /* gets rid of default border in Firefox and Opera. */\n",
              "        border: none;\n",
              "        /* Needs to be in here for Safari polyfill so background images work as expected. */\n",
              "        background-size: auto;\n",
              "    }\n",
              "    progress:not([value]), progress:not([value])::-webkit-progress-bar {\n",
              "        background: repeating-linear-gradient(45deg, #7e7e7e, #7e7e7e 10px, #5c5c5c 10px, #5c5c5c 20px);\n",
              "    }\n",
              "    .progress-bar-interrupted, .progress-bar-interrupted::-webkit-progress-bar {\n",
              "        background: #F44336;\n",
              "    }\n",
              "</style>\n"
            ]
          },
          "metadata": {}
        },
        {
          "output_type": "display_data",
          "data": {
            "text/plain": [
              "<IPython.core.display.HTML object>"
            ],
            "text/html": [
              ""
            ]
          },
          "metadata": {}
        },
        {
          "output_type": "stream",
          "name": "stderr",
          "text": [
            "/usr/local/lib/python3.7/dist-packages/fastai/text/data.py:124: VisibleDeprecationWarning: Creating an ndarray from ragged nested sequences (which is a list-or-tuple of lists-or-tuples-or ndarrays with different lengths or shapes) is deprecated. If you meant to do this, you must specify 'dtype=object' when creating the ndarray.\n",
            "  sort_idx = np.concatenate(np.random.permutation(ck_idx[1:])) if len(ck_idx) > 1 else np.array([],dtype=np.int)\n",
            "<string>:6: VisibleDeprecationWarning: Creating an ndarray from ragged nested sequences (which is a list-or-tuple of lists-or-tuples-or ndarrays with different lengths or shapes) is deprecated. If you meant to do this, you must specify 'dtype=object' when creating the ndarray.\n"
          ]
        }
      ]
    },
    {
      "cell_type": "code",
      "metadata": {
        "id": "WcrrDK7-aT0v",
        "colab": {
          "base_uri": "https://localhost:8080/",
          "height": 34
        },
        "outputId": "e6ff9843-47fa-4133-9ae4-0cf684069c3d"
      },
      "source": [
        "# create language model learner with AWD_LSTM architecture and drop_mult of 0.5\n",
        "lm_learner = language_model_learner(data_lm, arch=AWD_LSTM, drop_mult=.5)"
      ],
      "execution_count": null,
      "outputs": [
        {
          "output_type": "stream",
          "name": "stdout",
          "text": [
            "Downloading https://s3.amazonaws.com/fast-ai-modelzoo/wt103-fwd.tgz\n"
          ]
        },
        {
          "output_type": "display_data",
          "data": {
            "text/plain": [
              "<IPython.core.display.HTML object>"
            ],
            "text/html": [
              "\n",
              "<style>\n",
              "    /* Turns off some styling */\n",
              "    progress {\n",
              "        /* gets rid of default border in Firefox and Opera. */\n",
              "        border: none;\n",
              "        /* Needs to be in here for Safari polyfill so background images work as expected. */\n",
              "        background-size: auto;\n",
              "    }\n",
              "    progress:not([value]), progress:not([value])::-webkit-progress-bar {\n",
              "        background: repeating-linear-gradient(45deg, #7e7e7e, #7e7e7e 10px, #5c5c5c 10px, #5c5c5c 20px);\n",
              "    }\n",
              "    .progress-bar-interrupted, .progress-bar-interrupted::-webkit-progress-bar {\n",
              "        background: #F44336;\n",
              "    }\n",
              "</style>\n"
            ]
          },
          "metadata": {}
        },
        {
          "output_type": "display_data",
          "data": {
            "text/plain": [
              "<IPython.core.display.HTML object>"
            ],
            "text/html": [
              ""
            ]
          },
          "metadata": {}
        }
      ]
    },
    {
      "cell_type": "code",
      "metadata": {
        "id": "XnMFnhvZVM8k",
        "colab": {
          "base_uri": "https://localhost:8080/",
          "height": 409
        },
        "outputId": "42401aba-b6fc-48e2-fb2c-99c4e151ed4d"
      },
      "source": [
        "# find a learing rate\n",
        "lm_learner.lr_find()\n",
        "lm_learner.recorder.plot(suggestion=True)"
      ],
      "execution_count": null,
      "outputs": [
        {
          "output_type": "display_data",
          "data": {
            "text/plain": [
              "<IPython.core.display.HTML object>"
            ],
            "text/html": [
              "\n",
              "<style>\n",
              "    /* Turns off some styling */\n",
              "    progress {\n",
              "        /* gets rid of default border in Firefox and Opera. */\n",
              "        border: none;\n",
              "        /* Needs to be in here for Safari polyfill so background images work as expected. */\n",
              "        background-size: auto;\n",
              "    }\n",
              "    progress:not([value]), progress:not([value])::-webkit-progress-bar {\n",
              "        background: repeating-linear-gradient(45deg, #7e7e7e, #7e7e7e 10px, #5c5c5c 10px, #5c5c5c 20px);\n",
              "    }\n",
              "    .progress-bar-interrupted, .progress-bar-interrupted::-webkit-progress-bar {\n",
              "        background: #F44336;\n",
              "    }\n",
              "</style>\n"
            ]
          },
          "metadata": {}
        },
        {
          "output_type": "display_data",
          "data": {
            "text/plain": [
              "<IPython.core.display.HTML object>"
            ],
            "text/html": [
              "\n",
              "    <div>\n",
              "      <progress value='0' class='' max='1' style='width:300px; height:20px; vertical-align: middle;'></progress>\n",
              "      0.00% [0/1 00:00&lt;?]\n",
              "    </div>\n",
              "    \n",
              "<table border=\"1\" class=\"dataframe\">\n",
              "  <thead>\n",
              "    <tr style=\"text-align: left;\">\n",
              "      <th>epoch</th>\n",
              "      <th>train_loss</th>\n",
              "      <th>valid_loss</th>\n",
              "      <th>accuracy</th>\n",
              "      <th>time</th>\n",
              "    </tr>\n",
              "  </thead>\n",
              "  <tbody>\n",
              "  </tbody>\n",
              "</table><p>\n",
              "\n",
              "    <div>\n",
              "      <progress value='99' class='' max='1331' style='width:300px; height:20px; vertical-align: middle;'></progress>\n",
              "      7.44% [99/1331 00:32&lt;06:46 11.9822]\n",
              "    </div>\n",
              "    "
            ]
          },
          "metadata": {}
        },
        {
          "output_type": "stream",
          "name": "stdout",
          "text": [
            "LR Finder is complete, type {learner_name}.recorder.plot() to see the graph.\n",
            "Min numerical gradient: 7.59E-07\n",
            "Min loss divided by 10: 5.75E-03\n"
          ]
        },
        {
          "output_type": "display_data",
          "data": {
            "text/plain": [
              "<Figure size 432x288 with 1 Axes>"
            ],
            "image/png": "[encoded data removed]"
          },
          "metadata": {
            "needs_background": "light"
          }
        }
      ]
    },
    {
      "cell_type": "code",
      "metadata": {
        "id": "B9DZ8FALAw7r",
        "colab": {
          "base_uri": "https://localhost:8080/",
          "height": 112
        },
        "outputId": "5688d72e-3f16-40a7-e249-684ecda0d0f4"
      },
      "source": [
        "# fit one cycle\n",
        "lr = lm_learner.recorder.min_grad_lr\n",
        "lm_learner.fit_one_cycle(2, lr)"
      ],
      "execution_count": null,
      "outputs": [
        {
          "output_type": "display_data",
          "data": {
            "text/plain": [
              "<IPython.core.display.HTML object>"
            ],
            "text/html": [
              "\n",
              "<style>\n",
              "    /* Turns off some styling */\n",
              "    progress {\n",
              "        /* gets rid of default border in Firefox and Opera. */\n",
              "        border: none;\n",
              "        /* Needs to be in here for Safari polyfill so background images work as expected. */\n",
              "        background-size: auto;\n",
              "    }\n",
              "    progress:not([value]), progress:not([value])::-webkit-progress-bar {\n",
              "        background: repeating-linear-gradient(45deg, #7e7e7e, #7e7e7e 10px, #5c5c5c 10px, #5c5c5c 20px);\n",
              "    }\n",
              "    .progress-bar-interrupted, .progress-bar-interrupted::-webkit-progress-bar {\n",
              "        background: #F44336;\n",
              "    }\n",
              "</style>\n"
            ]
          },
          "metadata": {}
        },
        {
          "output_type": "display_data",
          "data": {
            "text/plain": [
              "<IPython.core.display.HTML object>"
            ],
            "text/html": [
              "<table border=\"1\" class=\"dataframe\">\n",
              "  <thead>\n",
              "    <tr style=\"text-align: left;\">\n",
              "      <th>epoch</th>\n",
              "      <th>train_loss</th>\n",
              "      <th>valid_loss</th>\n",
              "      <th>accuracy</th>\n",
              "      <th>time</th>\n",
              "    </tr>\n",
              "  </thead>\n",
              "  <tbody>\n",
              "    <tr>\n",
              "      <td>0</td>\n",
              "      <td>4.673198</td>\n",
              "      <td>4.486183</td>\n",
              "      <td>0.262247</td>\n",
              "      <td>07:52</td>\n",
              "    </tr>\n",
              "    <tr>\n",
              "      <td>1</td>\n",
              "      <td>4.691020</td>\n",
              "      <td>4.484676</td>\n",
              "      <td>0.262394</td>\n",
              "      <td>07:57</td>\n",
              "    </tr>\n",
              "  </tbody>\n",
              "</table>"
            ]
          },
          "metadata": {}
        }
      ]
    },
    {
      "cell_type": "code",
      "metadata": {
        "id": "3ZIbQuXSKS5V"
      },
      "source": [
        "# save the encoder\n",
        "lm_learner.save_encoder(\"model\")"
      ],
      "execution_count": null,
      "outputs": []
    },
    {
      "cell_type": "code",
      "metadata": {
        "id": "OFGrAyvQvXLH",
        "colab": {
          "base_uri": "https://localhost:8080/",
          "height": 36
        },
        "outputId": "85428e51-2936-446c-d00d-42ac1dee7a44"
      },
      "source": [
        "lm_learner.predict(\"this movie talks about Canadian\", n_words=20)"
      ],
      "execution_count": null,
      "outputs": [
        {
          "output_type": "execute_result",
          "data": {
            "text/plain": [
              "'this movie talks about Canadian Bishop John Gould may be in the chant of \" Joe , \" an anti -'"
            ],
            "application/vnd.google.colaboratory.intrinsic+json": {
              "type": "string"
            }
          },
          "metadata": {},
          "execution_count": 10
        }
      ]
    },
    {
      "cell_type": "code",
      "metadata": {
        "id": "p-Jv0yyyJWmN",
        "colab": {
          "base_uri": "https://localhost:8080/"
        },
        "outputId": "1f35118c-3006-460a-b201-e58f8fe7c037"
      },
      "source": [
        "clas_learner = text_classifier_learner(data_clas, arch=AWD_LSTM, drop_mult=0.5)\n",
        "clas_learner.load_encoder(\"model\")"
      ],
      "execution_count": null,
      "outputs": [
        {
          "output_type": "execute_result",
          "data": {
            "text/plain": [
              "RNNLearner(data=TextClasDataBunch;\n",
              "\n",
              "Train: LabelList (19999 items)\n",
              "x: TextList\n",
              "xxbos xxmaj my wife and i rented this movie because some people had drawn parallels between it and \" xxmaj office xxmaj space \" . xxmaj blockbuster and xxup imdb even had it as an \" also recommended \" selection if you liked \" xxmaj office xxmaj xxunk . xxmaj now , i 've seen xxmaj office xxmaj space probably 15 or 20 times . i love it . xxmaj it 's probably one of my 10 favorite movies . xxmaj witty , humorous , and featuring characters that remind me of people i 've worked with over the years . \" xxmaj haiku xxmaj tunnel \" is similar to \" office xxmaj space \" in that they are both films . xxmaj that 's where the similarity ends . xxmaj we sat through probably the first 50 minutes of xxup xxunk , giving it the benefit of the doubt , hoping , nay , * praying * that it would get better . xxmaj it did n't . xxmaj we could n't take it any more , and stopped the tape . xxmaj thank xxup god it was a free rental . i 'd have been p***ed if we 'd actually paid for it . xxmaj we should be xxunk for having to sit through it . xxmaj now , since we did n't see the end , perhaps it miraculously comes together and redeems itself . i doubt it . xxmaj haiku xxmaj tunnel is so bad it 's hard to believe it ever got produced . xxmaj the movie is xxup so unfunny it 's painful . xxmaj just mail the friggin letters already ! ! ! xxmaj the premise is asinine . xxmaj the jokes are awful . xxmaj we got as far as the \" printer does n't work \" scene and had to stop . xxmaj we could n't take it anymore . xxmaj this film is an xxup xxunk for xxmaj josh xxmaj kornbluth . xxmaj if you are a fan of xxmaj office xxmaj space xxrep 6 . do n't waste your time with this turd . 0 / 10,xxbos xxmaj just after the end of xxup wwii xxmaj powell & xxmaj pressburger were asked to come up with something to try to heal the rift developing between the xxup uk & the xxup usa . xxmaj at the time there was a lot of \" xxmaj overpaid , over sexed and over here \" type of comments . xxmaj somehow they came up with this masterpiece . xxmaj my favourite movie of xxup all time . xxmaj it 's got everything . xxmaj romance , poetry , emotion , religion , drama and very quirky . i can never explain exactly why , but it hits all the right buttons and although i 've seen it hundreds of times ( yes , really ) i 'm still guaranteed to be in tears at many points throughout . xxmaj was it the magnificent acting , the wonderful sets , the inspired script ? xxmaj who knows . xxmaj but * xxup do * watch it and you 'll see what i mean .,xxbos a group of model - caliber xxmaj san xxmaj francisco women who have been friends since elementary school are suddenly being threatened and attacked by someone sending them bizarre xxmaj valentine 's xxmaj day cards . xxmaj who is the killer and why is the killer after them ? xxmaj my rating will often change on subsequent viewings of a film -- sometimes slightly up , sometimes slightly down . xxmaj however , i ca n't remember another film where my rating has changed as drastically as it has for xxmaj valentine . xxmaj the first time i watched it , upon its theatrical release , i thought it was pretty awful -- i gave it a 4 out of 10 , the equivalent of an \" f \" letter grade . xxmaj watching it for a second time last night , i ca n't remember what the heck i did n't like about it . i can only assume that maybe i was really in the wrong mood to watch it , or maybe i just did n't get it . xxmaj in any event , i loved it this time , giving it a 9 out of 10 , or an \" xxup xxunk . xxmaj it might sound ridiculous saying i did n't get a film like this , but there is something to get . xxmaj valentine is almost a comedy / horror . xxmaj director xxmaj jamie xxmaj blanks , who was also responsible for 1998 's xxmaj urban xxmaj legend , takes the stereotypical teen horror formula that became so popular in the late 1990s in the wake of xxmaj scream ( 1996 ) and pushes most of the elements up a notch , making xxmaj valentine intentionally cheesy / campy almost to the point of absurdity ( where absurdism is a positive stylistic term ) . xxmaj on top of that , he gives us a film imbued with humorous commentary on romantic relationships . xxmaj the humor is unusual in that it has the same exaggeratedly campy tone as the teen horror aspects . xxmaj most of the situations in the film , and the modus operandi of the villain , humorous or not , are tied in to the xxmaj valentine 's xxmaj day theme . xxmaj many viewers will likely subtract points from the film for its various cliché - rooted but implausible scenarios and plot developments . xxmaj however , in light of the above , the film is intentionally clichéd , implausible and ludicrous . xxmaj it 's as if xxmaj blanks is attempting ( and mostly succeeding ) to transcend the typical teen slasher by mocking / spoofing the conventions of the genre while also satirizing eros . xxmaj that 's the attraction to the irony of basing a horror film on xxmaj valentine 's xxmaj day . xxmaj it 's an incongruity that is cleverly woven throughout the film , and that is itself at the heart of the slasher genre , making it prime fodder for xxmaj valentine 's extravagant lampooning . xxmaj scream had a similar aim with its horror material , but the twist there was that the film was \" self - aware \" . xxmaj valentine 's xxmaj day is intentionally not self - aware ; the viewer has to rely on contextual clues for satire . xxmaj lest some think i 'm \" reading too much \" into the film , it 's worthwhile to note that xxmaj blanks said in interviews that he \" did n't want to just do another slasher film after xxmaj urban xxmaj legend \" and producer xxmaj dylan xxmaj sellers said he wanted to do something \" more xxunk . xxmaj other viewers may dislike the fact that xxmaj valentine 's xxmaj day differs so much from its putative source material , the novel of the same name by xxmaj tom xxmaj savage . xxmaj the novel 's characters , setting and plot are very different from the film . xxmaj sellers has said , \" xxmaj while it was a fine book , i did n't think it was the right story for a film \" . xxmaj so instead the novel , which is much dryer and more serious in tone , was used as a launching pad , a motif to create variations on for a horror / thriller story centered on xxmaj valentine 's xxmaj day . xxmaj while those facts wo n't help purists familiar with the book like the film , it 's helpful to understand why the film has its divergent plot and attitude . xxmaj it 's probably better to look at the film as an independent entity with a similar theme . xxmaj blanks ' direction is impeccable visually . xxmaj valentine 's xxmaj day has a lush look throughout , with complex , deep colors , interesting sets , and good staging . xxmaj blanks is admirable for keeping his villain and attack scenes not too dark , with clearly conveyed action . xxmaj he also directs his actors with aplomb , xxunk often slyly humorous performances . xxmaj david xxmaj boreanaz , as xxmaj adam xxmaj carr , is involved in many of the funniest moments . xxmaj while xxmaj valentine 's xxmaj day is no masterpiece , it 's a very good horror / thriller film that seems strongly prone to misconceptions . xxmaj if you watch it expecting something more tongue - in - cheek you may find yourself appreciating it a lot more .,xxbos xxmaj the tenuous connection between this film and the first xxmaj grease is established right at the beginning of the film when xxmaj xxunk xxmaj conn one of four cast members repeating their roles approaches young xxmaj maxwell xxmaj caulfield who is a xxmaj british exchange student . xxmaj although in the previous film xxmaj olivia xxmaj newton xxmaj st. xxmaj john 's foreign speech pattern is not explained , it 's explained here xxmaj caulfield is her cousin . xxmaj what 's xxmaj conn still doing in school , i guess she just likes hanging around xxmaj rydell xxmaj high even though now she 's a beautician . xxmaj caulfield 's a smart kid , so of course the hood types led by xxmaj adrian xxmaj xxunk have him labeled as a nerd . xxmaj and that 's especially bad when xxmaj xxunk 's girl friend decides she likes xxmaj caulfield . xxmaj but being a nerd just is n't going to cut it . xxmaj that 's when xxmaj caulfield decides to put on a modern day xxmaj zorro act . xxmaj he gets a junked bicycle and puts it back together and teaches himself to ride . xxmaj he gets himself a leather biker outfit with a set of goggles to hide his face . xxmaj if getting xxmaj michelle xxmaj xxunk is not in the cards , xxmaj caulfield wo n't have any trouble making friends at any gay male leather bar the way he 's xxunk . xxmaj grease 2 introduced xxmaj michelle xxmaj xxunk and xxmaj maxwell xxmaj caulfield and started them on the successful career paths both have enjoyed . xxmaj if you saw the first xxmaj grease film , a much better film , than you definitely have an idea how this film will turn out . xxmaj in addition to xxmaj conn , xxmaj eve xxmaj arden , xxmaj sid xxmaj caesar , and xxmaj xxunk xxmaj goodman , all faculty members from the original xxmaj grease return in their roles . xxmaj the music score is n't remotely as good as the songs that come from the original . xxmaj it 's not that xxmaj grease 2 is bad , it 's just not all that great .,xxbos a shame that even a talented director , xxmaj desplechin , could not muster a decent performance out of a xxunk - talented actress , xxmaj phoenix , xxmaj esther xxmaj kahn lacks the substance to convey a very concise and clear plot . xxmaj in an attempt to fulfill the xxunk circle of an actor 's plight , the performance and presentation is too contrived and poorly executed to draw any compassion from the viewer . xxmaj in an overly long running time , the redundancy of xxmaj esther 's struggle is too melodramatic to be effective and reduces the storyline into a frail frame of a disastrous display . xxmaj the content is incoherent and gratuitous as xxmaj phoenix struggles to carry out xxmaj desplechin 's instruction , just as xxmaj esther is supposedly trying to do the same . xxmaj never feeling a convincing victory over xxmaj esther 's pain , we never feel a victory in xxmaj phoenix 's talent .\n",
              "y: CategoryList\n",
              "negative,positive,positive,negative,negative\n",
              "Path: /content/drive/My Drive/DATA-475/imdb;\n",
              "\n",
              "Valid: LabelList (5001 items)\n",
              "x: TextList\n",
              "xxbos xxmaj although i 've long been a fan of xxmaj peter xxmaj weir , i had n't watched any of his xxmaj australian movies until i watched xxmaj the xxmaj last xxmaj wave . xxmaj and it was a pleasant , unpredictable surprise . xxmaj richard xxmaj chamberlain plays xxmaj david , a lawyer invited to defend five aborigines charged with murdering another xxmaj aborigine . xxmaj for xxmaj david 's peers it 's a clear case of drunken disorder and they think they should plead guilty and serve a quick sentence . xxmaj but xxmaj david believes there 's a mystery underneath the murder , linked to tribal rituals . xxmaj as his investigation proceeds he learns not only things about his clients but about himself too . xxmaj to reveal more would be to spoil one of the strangest movies i 've ever seen . i can only say that this movie goes in directions that no one will be expecting . xxmaj there are many elements that make this a fascinating movie : xxmaj chamberlain 's acting , for instance ; but also the performances by xxmaj david xxmaj gulpilil , who plays a young aborigine who introduces xxmaj david into tribal mysteries ; and xxmaj xxunk xxmaj amagula , who plays an old aborigine who 's a spiritual guide . xxmaj the relationships between these three characters make the heart of the movie . xxmaj but there 's also the way xxmaj weir suggests the supernatural in the movie . xxmaj david has dreams that warn him of the future . xxmaj australia is undergoing awful weather , with storms , hail falling and even a mysterious black rain that may be nothing more than pollution . xxmaj but it 's also related to the case xxmaj david is defending . xxmaj how it 's related is one of the great revelations of the movie . xxmaj out of little events xxmaj weir manages to create an atmosphere of dread and oppression , suggesting future horrors without really showing anything . xxmaj charles xxmaj wain 's score is fantastic , especially the use of the xxunk . xxmaj the photography is also quite good . xxmaj russell xxmaj boyd , xxmaj weir 's longtime xxup dp who won an xxmaj oscar in 2004 for xxmaj master and xxmaj commander , depicts a dark , creepy world full of mystery . i also find it remarkable that for a movie centered on aborigines , it does n't turn into an indictment against white culture or into a sappy celebration of the their traditions , like xxmaj dances xxmaj with xxmaj wolves or xxmaj the xxmaj last xxmaj samurai . xxmaj this movie is too clever to be that simplistic . xxmaj sometimes it can be frustrating , and it may upset viewers who expect to finish a movie with everything making sense ; but for those who do n't mind some strangeness or ambiguity , xxmaj the xxmaj last xxmaj wave is a great movie to watch .,xxbos xxmaj after reading all of the rave reviews about this film and a few that give it a so - so . i finally decided to throw in my no cents worth . i agree with most on the point that if it had n't been for xxmaj lauren xxmaj lewis and xxmaj chris xxmaj ferry it would have been a disaster . xxmaj filmed in xxmaj mariette xxup oh . just north of xxmaj xxunk where all the real talent fled south down xxup xxunk years ago , at least as far as a tank of gas would allow . i did get a chuckle from reviewers who subtly claim that they xxunk a little better than most by claiming they followed the plot without an inkling of confusion . xxmaj this wee tale by the xxmaj brothers xxmaj crook is like an old record with a skip in it . xxmaj as an xxmaj american i understand the difficulties xxmaj xxunk film artists have to face . a trip to xxmaj romania would have wiped out the budget for sure . xxmaj lets face it this whole film was a loop de loop of xxmaj claire in the gas station , xxmaj claire on the side of the road , xxmaj claire under the xxunk , xxmaj claire in the house , xxmaj claire in the cornfield , xxmaj claire at school . xxmaj claire here and xxmaj claire there . xxmaj it almost became monotonous and would have if she had not been the best actor in the cast . xxmaj josh and xxmaj jeff have to make a living but do n't write a two page script and turn it into an hour , twenty flick . xxmaj before writing another screenplay about dreaming ghosts watch an episode or two of xxmaj ghost xxmaj whisperer or something and get a little background . xxmaj all of the cast except the above mentioned and a couple of others were engaged in their first and last film . xxmaj also , there is an appearance by co - director xxmaj jeff as he is in all his films . xxmaj just like xxmaj alfred xxmaj hitchcock , eh ? xxmaj one thing the film had going for it is that the cameraman seemed to have a fixation on xxmaj lauren xxmaj lewis ' derrière . xxmaj well , with all sarcasm now satisfied i still recommend the film for the horror buff just to see this young actress in the formative time of her career ( i xxunk that xxmaj chris xxmaj ferry has established himself as a villain worth watching .,xxbos xxmaj my xxmaj take : a funny take on xxup the xxup lion xxup king , posing as a sequel . xxmaj surprisingly amusing . xxmaj surprisingly , \" xxmaj lion xxmaj king 1 1 / 2 \" is actually another funny straight - to - video , that 's worth a theatrical treatment . i do n't see why xxmaj disney released this straight to video , and release crappy movies like \" xxmaj chicken xxmaj little \" and \" xxmaj return to xxmaj neverland \" theatrically . xxmaj those movies are better off seen in the video stores ( in the \" new releases \" area ) , rather than seeing their theatrical posters outside the theaters . xxmaj this one is merely a spoof of the first film ( although the events in \" xxmaj simba 's xxmaj pride \" has n't taken place yet ) , on xxmaj timon ( voiced by xxmaj nathan xxmaj lane ) and xxmaj pumbaa 's ( voiced by xxmaj ernie xxmaj sabella ) point of view . xxmaj we get to see them make fun of the events in the first film . xxmaj original voices from the first film , like xxmaj matthew xxmaj broderick , xxmaj xxunk xxmaj goldberg , xxmaj xxunk xxmaj martin and xxmaj robert xxmaj guillaume , return to their voicing roles from the first film , while xxmaj julie xxmaj kavner and xxmaj jerry xxmaj stiller give some hilarious comedy relief as xxmaj timon 's mom and grumpy uncle . xxmaj so does n't this sound fun . xxmaj maybe not now , but go watch it for yourself . xxmaj the fact that it 's not that serious in its plot makes it the more enjoyable . xxmaj it 's kinda like xxup mst3000 with xxmaj timon and xxmaj pumbaa . xxmaj video movie rating : * * * 1 / 2 out of 5 .,xxbos a man and his wife get in a horrible car accident . xxmaj when the wife is left in a persistent xxunk state , the man must choose between pulling the plug and letting her live . xxmaj the decision is made even harder when he realizes her ghost wants to extract revenge on him and those around him . xxmaj this comes to us from director xxmaj rob xxmaj schmidt , who made \" xxmaj wrong xxmaj turn \" ( a film i have not seen ) . xxmaj with only one horror film under his belt , and not a particularly notorious one at that , i was a bit reluctant to watch this episode , expecting xxmaj schmidt to be a \" xxmaj master of xxmaj horror \" in only the most liberal sense . xxmaj my apologies to him for my xxunk . xxmaj as of episode 10 in a 13 episode season , this was actually the best one yet . xxmaj the issue of the \" right to die \" is dealt with and covered in enough detail to be a solid plot device . xxmaj however , this is only the foundation on which the story revolves . xxmaj once the horror elements show up , the film goes from \" decent \" to \" spectacular \" . xxmaj great acting , great plot , great dialogue , great suspense . i was a little creeped out at times ( which is good ) and most of all : the gore is in extreme abundance ! i read a review of this episode prior to watching it , where the reviewer said there is a strong hint of \" xxmaj hellraiser \" in this . xxmaj through the first part of the show , i had no idea what they were talking about . xxmaj then there is a bit later where some images do remind me of \" xxmaj hellraiser 2 \" . xxmaj however , i in no way wish to say that this takes away from the film . i can see no other way to create the effect that was created , and in my opinion this looks remarkably better than \" xxmaj hellraiser 2\" . xxmaj some plot twists show up later on , and might invite the viewer to give the film a second look . i did n't watch it a second time , but i think the beginning would make more sense if i had ( not that it 's confusing ) . xxmaj the subplot with the dental hygienist is also nice , and i found myself going back and forth about whether i disliked the main character for his relationship with her or if i felt bad for him . xxmaj he 's somewhat of an anti - hero to the whole story , if you will . i feel inclined to cheer for him as the protagonist , but he 's completely unlovable . xxmaj while the xxmaj stuart xxmaj gordon episode may be better and i 'm excited about the \" xxmaj xxunk \" episode , i think i could safely bet that this is the key episode of the season and by far the saving grace of what was otherwise lackluster and routine . xxmaj when legends like xxmaj john xxmaj carpenter let me down ( again ) i get a bit worried about the genre 's future , but then a fresh face like xxmaj rob xxmaj schmidt comes along and gives me hope . xxmaj this one is a keeper , and please bring xxmaj schmidt back for season 3 !,xxbos xxmaj this was one of the most boring movies i 've ever seen \n",
              "  i do n't really know why \n",
              "  xxmaj just your run - of - the - mill stories about guy who is about to get married , and starts to fancy someone else instead . xxmaj story has been told a thousand times . xxmaj nothing new or innovative about it at all . i do n't really know what was wrong with this film . xxmaj most of the time when these kinds of actors / actresses get together to make a film that have already been made a million times before , it 's really entertaining . xxmaj there are usually little clever thing in them that are n't really in any other . xxmaj for some reason , this one just does n't hold your attention . xxmaj you can pick out some funny parts , or clever ideas in it , but for some reason they 're just not funny , nor clever in any way \n",
              "  i wish i new how to explain it , but i do n't \n",
              "  xxmaj just do n't waste your time on this one \n",
              "\n",
              "y: CategoryList\n",
              "positive,negative,positive,positive,negative\n",
              "Path: /content/drive/My Drive/DATA-475/imdb;\n",
              "\n",
              "Test: LabelList (25000 items)\n",
              "x: TextList\n",
              "xxbos i went and saw this movie last night after being coaxed to by a few friends of mine . i 'll admit that i was reluctant to see it because from what i knew of xxmaj ashton xxmaj kutcher he was only able to do comedy . i was wrong . xxmaj kutcher played the character of xxmaj jake xxmaj fischer very well , and xxmaj kevin xxmaj costner played xxmaj ben xxmaj randall with such professionalism . xxmaj the sign of a good movie is that it can toy with our emotions . xxmaj this one did exactly that . xxmaj the entire theater ( which was sold out ) was overcome by laughter during the first half of the movie , and were moved to tears during the second half . xxmaj while exiting the theater i not only saw many women in tears , but many full grown men as well , trying desperately not to let anyone see them crying . xxmaj this movie was great , and i suggest that you go see it before you judge .,xxbos xxmaj actor turned director xxmaj bill xxmaj paxton follows up his promising debut , the xxmaj gothic - horror \" xxmaj frailty \" , with this family friendly sports drama about the 1913 xxup u.s. xxmaj open where a young xxmaj american caddy rises from his humble background to play against his xxmaj xxunk idol in what was dubbed as \" xxmaj the xxmaj greatest xxmaj game xxmaj ever xxmaj played . \" i 'm no fan of golf , and these scrappy underdog sports flicks are a dime a dozen ( most recently done to grand effect with \" xxmaj miracle \" and \" xxmaj cinderella xxmaj man \" ) , but some how this film was enthralling all the same . xxmaj the film starts with some creative opening credits ( imagine a xxmaj disneyfied version of the animated opening credits of xxup hbo 's \" xxmaj xxunk \" and \" xxmaj rome \" ) , but lumbers along slowly for its first by - the - numbers hour . xxmaj once the action moves to the xxup u.s. xxmaj open things pick up very well . xxmaj paxton does a nice job and shows a knack for effective directorial flourishes ( i loved the rain - soaked montage of the action on day two of the open ) that propel the plot further or add some unexpected psychological depth to the proceedings . xxmaj there 's some compelling character development when the xxmaj british xxmaj harry xxmaj xxunk is haunted by images of the aristocrats in black suits and top hats who destroyed his family cottage as a child to make way for a golf course . xxmaj he also does a good job of visually depicting what goes on in the players ' heads under pressure . xxmaj golf , a painfully boring sport , is brought vividly alive here . xxmaj credit should also be given the set designers and costume department for creating an engaging period - piece atmosphere of xxmaj london and xxmaj boston at the beginning of the twentieth century . xxmaj you know how this is going to end not only because it 's based on a true story but also because films in this genre follow the same template over and over , but xxmaj paxton puts on a better than average show and perhaps indicates more talent behind the camera than he ever had in front of it . xxmaj despite the formulaic nature , this is a nice and easy film to root for that deserves to find an audience .,xxbos xxmaj as a recreational golfer with some knowledge of the sport 's history , i was pleased with xxmaj disney 's sensitivity to the issues of class in golf in the early twentieth century . xxmaj the movie depicted well the psychological battles that xxmaj harry xxmaj xxunk fought within himself , from his childhood trauma of being evicted to his own inability to break that glass ceiling that prevents him from being accepted as an equal in xxmaj english golf society . xxmaj likewise , the young xxmaj xxunk goes through his own class struggles , being a mere xxunk in the eyes of the upper crust xxmaj americans who scoff at his attempts to rise above his standing . xxmaj what i loved best , however , is how this theme of class is manifested in the characters of xxmaj xxunk 's parents . xxmaj his father is a working - class drone who sees the value of hard work but is intimidated by the upper class ; his mother , however , recognizes her son 's talent and desire and encourages him to pursue his dream of competing against those who think he is inferior . xxmaj finally , the golf scenes are well photographed . xxmaj although the course used in the movie was not the actual site of the historical tournament , the little liberties taken by xxmaj disney do not detract from the beauty of the film . xxmaj there 's one little xxmaj disney moment at the pool table ; otherwise , the viewer does not really think xxmaj disney . xxmaj the ending , as in \" xxmaj miracle , \" is not some xxmaj disney creation , but one that only human history could have written .,xxbos i saw this film in a sneak preview , and it is delightful . xxmaj the cinematography is unusually creative , the acting is good , and the story is fabulous . xxmaj if this movie does not do well , it wo n't be because it does n't deserve to . xxmaj before this film , i did n't realize how charming xxmaj shia xxmaj xxunk could be . xxmaj he does a marvelous , self - contained , job as the lead . xxmaj there 's something incredibly sweet about him , and it makes the movie even better . xxmaj the other actors do a good job as well , and the film contains moments of really high suspense , more than one might expect from a movie about golf . xxmaj sports movies are a dime a dozen , but this one stands out . xxmaj this is one i 'd recommend to anyone .,xxbos xxmaj bill xxmaj paxton has taken the true story of the 1913 xxup us golf open and made a film that is about much more than an extra - ordinary game of golf . xxmaj the film also deals directly with the class tensions of the early twentieth century and touches upon the profound anti - xxmaj catholic prejudices of both the xxmaj british and xxmaj american establishments . xxmaj but at heart the film is about that perennial favourite of triumph against the odds . xxmaj the acting is exemplary throughout . xxmaj stephen xxmaj xxunk is excellent as usual , but the revelation of the movie is xxmaj shia xxunk who delivers a disciplined , dignified and highly sympathetic performance as a working class xxmaj franco - xxmaj irish kid fighting his way through the prejudices of the xxmaj new xxmaj england xxup wasp establishment . xxmaj for those who are only familiar with his slap - stick performances in \" xxmaj even xxmaj stevens \" this demonstration of his maturity is a delightful surprise . xxmaj and xxmaj josh xxmaj flitter as the ten year old caddy threatens to steal every scene in which he appears . a old fashioned movie in the best sense of the word : fine acting , clear directing and a great story that grips to the end - the final scene an affectionate nod to xxmaj casablanca is just one of the many pleasures that fill a great movie .\n",
              "y: EmptyLabelList\n",
              ",,,,\n",
              "Path: /content/drive/My Drive/DATA-475/imdb, model=SequentialRNN(\n",
              "  (0): MultiBatchEncoder(\n",
              "    (module): AWD_LSTM(\n",
              "      (encoder): Embedding(44208, 400, padding_idx=1)\n",
              "      (encoder_dp): EmbeddingDropout(\n",
              "        (emb): Embedding(44208, 400, padding_idx=1)\n",
              "      )\n",
              "      (rnns): ModuleList(\n",
              "        (0): WeightDropout(\n",
              "          (module): LSTM(400, 1152, batch_first=True)\n",
              "        )\n",
              "        (1): WeightDropout(\n",
              "          (module): LSTM(1152, 1152, batch_first=True)\n",
              "        )\n",
              "        (2): WeightDropout(\n",
              "          (module): LSTM(1152, 400, batch_first=True)\n",
              "        )\n",
              "      )\n",
              "      (input_dp): RNNDropout()\n",
              "      (hidden_dps): ModuleList(\n",
              "        (0): RNNDropout()\n",
              "        (1): RNNDropout()\n",
              "        (2): RNNDropout()\n",
              "      )\n",
              "    )\n",
              "  )\n",
              "  (1): PoolingLinearClassifier(\n",
              "    (layers): Sequential(\n",
              "      (0): BatchNorm1d(1200, eps=1e-05, momentum=0.1, affine=True, track_running_stats=True)\n",
              "      (1): Dropout(p=0.2, inplace=False)\n",
              "      (2): Linear(in_features=1200, out_features=50, bias=True)\n",
              "      (3): ReLU(inplace=True)\n",
              "      (4): BatchNorm1d(50, eps=1e-05, momentum=0.1, affine=True, track_running_stats=True)\n",
              "      (5): Dropout(p=0.1, inplace=False)\n",
              "      (6): Linear(in_features=50, out_features=2, bias=True)\n",
              "    )\n",
              "  )\n",
              "), opt_func=functools.partial(<class 'torch.optim.adam.Adam'>, betas=(0.9, 0.99)), loss_func=FlattenedLoss of CrossEntropyLoss(), metrics=[<function accuracy at 0x7f0d57722a70>], true_wd=True, bn_wd=True, wd=0.01, train_bn=True, path=PosixPath('/content/drive/My Drive/DATA-475/imdb'), model_dir='models', callback_fns=[functools.partial(<class 'fastai.basic_train.Recorder'>, add_time=True, silent=False)], callbacks=[RNNTrainer\n",
              "learn: ...\n",
              "alpha: 2.0\n",
              "beta: 1.0], layer_groups=[Sequential(\n",
              "  (0): Embedding(44208, 400, padding_idx=1)\n",
              "  (1): EmbeddingDropout(\n",
              "    (emb): Embedding(44208, 400, padding_idx=1)\n",
              "  )\n",
              "), Sequential(\n",
              "  (0): WeightDropout(\n",
              "    (module): LSTM(400, 1152, batch_first=True)\n",
              "  )\n",
              "  (1): RNNDropout()\n",
              "), Sequential(\n",
              "  (0): WeightDropout(\n",
              "    (module): LSTM(1152, 1152, batch_first=True)\n",
              "  )\n",
              "  (1): RNNDropout()\n",
              "), Sequential(\n",
              "  (0): WeightDropout(\n",
              "    (module): LSTM(1152, 400, batch_first=True)\n",
              "  )\n",
              "  (1): RNNDropout()\n",
              "), Sequential(\n",
              "  (0): PoolingLinearClassifier(\n",
              "    (layers): Sequential(\n",
              "      (0): BatchNorm1d(1200, eps=1e-05, momentum=0.1, affine=True, track_running_stats=True)\n",
              "      (1): Dropout(p=0.2, inplace=False)\n",
              "      (2): Linear(in_features=1200, out_features=50, bias=True)\n",
              "      (3): ReLU(inplace=True)\n",
              "      (4): BatchNorm1d(50, eps=1e-05, momentum=0.1, affine=True, track_running_stats=True)\n",
              "      (5): Dropout(p=0.1, inplace=False)\n",
              "      (6): Linear(in_features=50, out_features=2, bias=True)\n",
              "    )\n",
              "  )\n",
              ")], add_time=True, silent=False)"
            ]
          },
          "metadata": {},
          "execution_count": 11
        }
      ]
    },
    {
      "cell_type": "code",
      "metadata": {
        "id": "mLL6cVkhOmT4",
        "colab": {
          "base_uri": "https://localhost:8080/",
          "height": 481
        },
        "outputId": "6e26e7db-6a18-413e-a504-c7555b6eb456"
      },
      "source": [
        "# tune the text_classifier_learner to accpetable accuracy (>80%)\n",
        "clas_learner.lr_find()\n",
        "clas_learner.recorder.plot(suggestion=True)"
      ],
      "execution_count": null,
      "outputs": [
        {
          "output_type": "display_data",
          "data": {
            "text/plain": [
              "<IPython.core.display.HTML object>"
            ],
            "text/html": [
              "\n",
              "<style>\n",
              "    /* Turns off some styling */\n",
              "    progress {\n",
              "        /* gets rid of default border in Firefox and Opera. */\n",
              "        border: none;\n",
              "        /* Needs to be in here for Safari polyfill so background images work as expected. */\n",
              "        background-size: auto;\n",
              "    }\n",
              "    progress:not([value]), progress:not([value])::-webkit-progress-bar {\n",
              "        background: repeating-linear-gradient(45deg, #7e7e7e, #7e7e7e 10px, #5c5c5c 10px, #5c5c5c 20px);\n",
              "    }\n",
              "    .progress-bar-interrupted, .progress-bar-interrupted::-webkit-progress-bar {\n",
              "        background: #F44336;\n",
              "    }\n",
              "</style>\n"
            ]
          },
          "metadata": {}
        },
        {
          "output_type": "display_data",
          "data": {
            "text/plain": [
              "<IPython.core.display.HTML object>"
            ],
            "text/html": [
              "\n",
              "    <div>\n",
              "      <progress value='0' class='' max='1' style='width:300px; height:20px; vertical-align: middle;'></progress>\n",
              "      0.00% [0/1 00:00&lt;?]\n",
              "    </div>\n",
              "    \n",
              "<table border=\"1\" class=\"dataframe\">\n",
              "  <thead>\n",
              "    <tr style=\"text-align: left;\">\n",
              "      <th>epoch</th>\n",
              "      <th>train_loss</th>\n",
              "      <th>valid_loss</th>\n",
              "      <th>accuracy</th>\n",
              "      <th>time</th>\n",
              "    </tr>\n",
              "  </thead>\n",
              "  <tbody>\n",
              "  </tbody>\n",
              "</table><p>\n",
              "\n",
              "    <div>\n",
              "      <progress value='93' class='' max='624' style='width:300px; height:20px; vertical-align: middle;'></progress>\n",
              "      14.90% [93/624 00:21&lt;02:01 1.6967]\n",
              "    </div>\n",
              "    "
            ]
          },
          "metadata": {}
        },
        {
          "output_type": "stream",
          "name": "stderr",
          "text": [
            "/usr/local/lib/python3.7/dist-packages/fastai/text/data.py:124: VisibleDeprecationWarning: Creating an ndarray from ragged nested sequences (which is a list-or-tuple of lists-or-tuples-or ndarrays with different lengths or shapes) is deprecated. If you meant to do this, you must specify 'dtype=object' when creating the ndarray.\n",
            "  sort_idx = np.concatenate(np.random.permutation(ck_idx[1:])) if len(ck_idx) > 1 else np.array([],dtype=np.int)\n",
            "<string>:6: VisibleDeprecationWarning: Creating an ndarray from ragged nested sequences (which is a list-or-tuple of lists-or-tuples-or ndarrays with different lengths or shapes) is deprecated. If you meant to do this, you must specify 'dtype=object' when creating the ndarray.\n"
          ]
        },
        {
          "output_type": "stream",
          "name": "stdout",
          "text": [
            "LR Finder is complete, type {learner_name}.recorder.plot() to see the graph.\n",
            "Min numerical gradient: 1.20E-03\n",
            "Min loss divided by 10: 1.45E-02\n"
          ]
        },
        {
          "output_type": "display_data",
          "data": {
            "text/plain": [
              "<Figure size 432x288 with 1 Axes>"
            ],
            "image/png": "[encoded data removed]"
          },
          "metadata": {
            "needs_background": "light"
          }
        }
      ]
    },
    {
      "cell_type": "code",
      "metadata": {
        "id": "9gIpY9wxY9w8",
        "colab": {
          "base_uri": "https://localhost:8080/",
          "height": 403
        },
        "outputId": "c65616b9-f9fb-4ee2-be12-d9db124116b3"
      },
      "source": [
        "lr = clas_learner.recorder.min_grad_lr\n",
        "clas_learner.fit_one_cycle(4, lr)"
      ],
      "execution_count": null,
      "outputs": [
        {
          "output_type": "display_data",
          "data": {
            "text/plain": [
              "<IPython.core.display.HTML object>"
            ],
            "text/html": [
              "\n",
              "<style>\n",
              "    /* Turns off some styling */\n",
              "    progress {\n",
              "        /* gets rid of default border in Firefox and Opera. */\n",
              "        border: none;\n",
              "        /* Needs to be in here for Safari polyfill so background images work as expected. */\n",
              "        background-size: auto;\n",
              "    }\n",
              "    progress:not([value]), progress:not([value])::-webkit-progress-bar {\n",
              "        background: repeating-linear-gradient(45deg, #7e7e7e, #7e7e7e 10px, #5c5c5c 10px, #5c5c5c 20px);\n",
              "    }\n",
              "    .progress-bar-interrupted, .progress-bar-interrupted::-webkit-progress-bar {\n",
              "        background: #F44336;\n",
              "    }\n",
              "</style>\n"
            ]
          },
          "metadata": {}
        },
        {
          "output_type": "display_data",
          "data": {
            "text/plain": [
              "<IPython.core.display.HTML object>"
            ],
            "text/html": [
              "<table border=\"1\" class=\"dataframe\">\n",
              "  <thead>\n",
              "    <tr style=\"text-align: left;\">\n",
              "      <th>epoch</th>\n",
              "      <th>train_loss</th>\n",
              "      <th>valid_loss</th>\n",
              "      <th>accuracy</th>\n",
              "      <th>time</th>\n",
              "    </tr>\n",
              "  </thead>\n",
              "  <tbody>\n",
              "    <tr>\n",
              "      <td>0</td>\n",
              "      <td>0.473979</td>\n",
              "      <td>0.409201</td>\n",
              "      <td>0.812637</td>\n",
              "      <td>02:59</td>\n",
              "    </tr>\n",
              "    <tr>\n",
              "      <td>1</td>\n",
              "      <td>0.472337</td>\n",
              "      <td>0.386895</td>\n",
              "      <td>0.828834</td>\n",
              "      <td>02:30</td>\n",
              "    </tr>\n",
              "    <tr>\n",
              "      <td>2</td>\n",
              "      <td>0.444304</td>\n",
              "      <td>0.366674</td>\n",
              "      <td>0.838432</td>\n",
              "      <td>02:45</td>\n",
              "    </tr>\n",
              "    <tr>\n",
              "      <td>3</td>\n",
              "      <td>0.436557</td>\n",
              "      <td>0.357051</td>\n",
              "      <td>0.846231</td>\n",
              "      <td>02:31</td>\n",
              "    </tr>\n",
              "  </tbody>\n",
              "</table>"
            ]
          },
          "metadata": {}
        },
        {
          "output_type": "stream",
          "name": "stderr",
          "text": [
            "/usr/local/lib/python3.7/dist-packages/fastai/text/data.py:124: VisibleDeprecationWarning: Creating an ndarray from ragged nested sequences (which is a list-or-tuple of lists-or-tuples-or ndarrays with different lengths or shapes) is deprecated. If you meant to do this, you must specify 'dtype=object' when creating the ndarray.\n",
            "  sort_idx = np.concatenate(np.random.permutation(ck_idx[1:])) if len(ck_idx) > 1 else np.array([],dtype=np.int)\n",
            "<string>:6: VisibleDeprecationWarning: Creating an ndarray from ragged nested sequences (which is a list-or-tuple of lists-or-tuples-or ndarrays with different lengths or shapes) is deprecated. If you meant to do this, you must specify 'dtype=object' when creating the ndarray.\n",
            "/usr/local/lib/python3.7/dist-packages/fastai/text/data.py:124: VisibleDeprecationWarning: Creating an ndarray from ragged nested sequences (which is a list-or-tuple of lists-or-tuples-or ndarrays with different lengths or shapes) is deprecated. If you meant to do this, you must specify 'dtype=object' when creating the ndarray.\n",
            "  sort_idx = np.concatenate(np.random.permutation(ck_idx[1:])) if len(ck_idx) > 1 else np.array([],dtype=np.int)\n",
            "<string>:6: VisibleDeprecationWarning: Creating an ndarray from ragged nested sequences (which is a list-or-tuple of lists-or-tuples-or ndarrays with different lengths or shapes) is deprecated. If you meant to do this, you must specify 'dtype=object' when creating the ndarray.\n",
            "/usr/local/lib/python3.7/dist-packages/fastai/text/data.py:124: VisibleDeprecationWarning: Creating an ndarray from ragged nested sequences (which is a list-or-tuple of lists-or-tuples-or ndarrays with different lengths or shapes) is deprecated. If you meant to do this, you must specify 'dtype=object' when creating the ndarray.\n",
            "  sort_idx = np.concatenate(np.random.permutation(ck_idx[1:])) if len(ck_idx) > 1 else np.array([],dtype=np.int)\n",
            "<string>:6: VisibleDeprecationWarning: Creating an ndarray from ragged nested sequences (which is a list-or-tuple of lists-or-tuples-or ndarrays with different lengths or shapes) is deprecated. If you meant to do this, you must specify 'dtype=object' when creating the ndarray.\n",
            "/usr/local/lib/python3.7/dist-packages/fastai/text/data.py:124: VisibleDeprecationWarning: Creating an ndarray from ragged nested sequences (which is a list-or-tuple of lists-or-tuples-or ndarrays with different lengths or shapes) is deprecated. If you meant to do this, you must specify 'dtype=object' when creating the ndarray.\n",
            "  sort_idx = np.concatenate(np.random.permutation(ck_idx[1:])) if len(ck_idx) > 1 else np.array([],dtype=np.int)\n",
            "<string>:6: VisibleDeprecationWarning: Creating an ndarray from ragged nested sequences (which is a list-or-tuple of lists-or-tuples-or ndarrays with different lengths or shapes) is deprecated. If you meant to do this, you must specify 'dtype=object' when creating the ndarray.\n"
          ]
        }
      ]
    },
    {
      "cell_type": "code",
      "metadata": {
        "id": "6VHA0eRISBbF",
        "colab": {
          "base_uri": "https://localhost:8080/"
        },
        "outputId": "be0a5db4-5b40-4c62-ebc4-2db0b913c77a"
      },
      "source": [
        "clas_learner.predict(\"This is a horrible movie\")"
      ],
      "execution_count": null,
      "outputs": [
        {
          "output_type": "execute_result",
          "data": {
            "text/plain": [
              "(Category tensor(1), tensor(1), tensor([0.0344, 0.9656]))"
            ]
          },
          "metadata": {},
          "execution_count": 14
        }
      ]
    },
    {
      "cell_type": "code",
      "metadata": {
        "id": "CXgIKlWb-Q8D",
        "colab": {
          "base_uri": "https://localhost:8080/"
        },
        "outputId": "5b2b2740-5ab1-4bc0-9fb1-51790bc58775"
      },
      "source": [
        "clas_learner.predict(\"This is a great movie,\")"
      ],
      "execution_count": null,
      "outputs": [
        {
          "output_type": "execute_result",
          "data": {
            "text/plain": [
              "(Category tensor(1), tensor(1), tensor([7.6733e-05, 9.9992e-01]))"
            ]
          },
          "metadata": {},
          "execution_count": 15
        }
      ]
    },
    {
      "cell_type": "code",
      "metadata": {
        "id": "mazhyIrA-R0m",
        "colab": {
          "base_uri": "https://localhost:8080/"
        },
        "outputId": "e6794be9-1ca3-4206-f667-7715cafa75fe"
      },
      "source": [
        "# Check the label mapping\n",
        "# suppose it returns {'negative': 0, 'positive': 1}\n",
        "data_clas.train_ds.y.c2i"
      ],
      "execution_count": null,
      "outputs": [
        {
          "output_type": "execute_result",
          "data": {
            "text/plain": [
              "{'negative': 0, 'positive': 1}"
            ]
          },
          "metadata": {},
          "execution_count": 16
        }
      ]
    },
    {
      "cell_type": "code",
      "metadata": {
        "id": "-YRl2rhMPvuW"
      },
      "source": [
        "import pandas as pd\n",
        "\n",
        "\n",
        "df = pd.read_csv(path+\"/test.csv\")\n",
        "y_true = tensor(df[\"sentiment\"]==\"positive\")"
      ],
      "execution_count": null,
      "outputs": []
    },
    {
      "cell_type": "code",
      "metadata": {
        "id": "8DgzM_y9aJrZ",
        "colab": {
          "base_uri": "https://localhost:8080/"
        },
        "outputId": "61b6c7e6-0592-4e6e-9733-37150b2d6cd8"
      },
      "source": [
        "y_true"
      ],
      "execution_count": null,
      "outputs": [
        {
          "output_type": "execute_result",
          "data": {
            "text/plain": [
              "tensor([ True,  True,  True,  ..., False, False, False])"
            ]
          },
          "metadata": {},
          "execution_count": 18
        }
      ]
    },
    {
      "cell_type": "code",
      "metadata": {
        "id": "oRekyOZ-1qQ1",
        "colab": {
          "base_uri": "https://localhost:8080/",
          "height": 311
        },
        "outputId": "5610083e-03a1-4774-f800-7add2b340a61"
      },
      "source": [
        "interp = TextClassificationInterpretation.from_learner(\n",
        "    clas_learner, \n",
        "    ds_type=DatasetType.Test\n",
        ")\n",
        "interp.y_true = tensor(df[\"sentiment\"]==\"positive\")\n",
        "interp.plot_confusion_matrix()"
      ],
      "execution_count": null,
      "outputs": [
        {
          "output_type": "display_data",
          "data": {
            "text/plain": [
              "<IPython.core.display.HTML object>"
            ],
            "text/html": [
              "\n",
              "<style>\n",
              "    /* Turns off some styling */\n",
              "    progress {\n",
              "        /* gets rid of default border in Firefox and Opera. */\n",
              "        border: none;\n",
              "        /* Needs to be in here for Safari polyfill so background images work as expected. */\n",
              "        background-size: auto;\n",
              "    }\n",
              "    progress:not([value]), progress:not([value])::-webkit-progress-bar {\n",
              "        background: repeating-linear-gradient(45deg, #7e7e7e, #7e7e7e 10px, #5c5c5c 10px, #5c5c5c 20px);\n",
              "    }\n",
              "    .progress-bar-interrupted, .progress-bar-interrupted::-webkit-progress-bar {\n",
              "        background: #F44336;\n",
              "    }\n",
              "</style>\n"
            ]
          },
          "metadata": {}
        },
        {
          "output_type": "display_data",
          "data": {
            "text/plain": [
              "<IPython.core.display.HTML object>"
            ],
            "text/html": [
              ""
            ]
          },
          "metadata": {}
        },
        {
          "output_type": "display_data",
          "data": {
            "text/plain": [
              "<Figure size 432x288 with 1 Axes>"
            ],
            "image/png": "[encoded data removed]"
          },
          "metadata": {
            "needs_background": "light"
          }
        }
      ]
    },
    {
      "cell_type": "code",
      "metadata": {
        "id": "Ov9w-uNT8Ldd",
        "colab": {
          "base_uri": "https://localhost:8080/"
        },
        "outputId": "eb8ddecb-ffb0-4da8-cee3-8c79484e01d7"
      },
      "source": [
        "from fastai.metrics import accuracy\n",
        "\n",
        "accuracy(interp.preds, interp.y_true)"
      ],
      "execution_count": null,
      "outputs": [
        {
          "output_type": "execute_result",
          "data": {
            "text/plain": [
              "tensor(0.8427)"
            ]
          },
          "metadata": {},
          "execution_count": 20
        }
      ]
    }
  ]
}